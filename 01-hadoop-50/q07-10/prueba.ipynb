{
 "cells": [
  {
   "cell_type": "code",
   "execution_count": 7,
   "metadata": {},
   "outputs": [
    {
     "name": "stdout",
     "output_type": "stream",
     "text": [
      "Overwriting mapper1.py\n"
     ]
    }
   ],
   "source": [
    "%%writefile mapper1.py\n",
    "#! /usr/bin/env python\n",
    "import sys\n",
    "if __name__ == '__main__':\n",
    "    for line in sys.stdin:\n",
    "        line = line.replace('\\n','')\n",
    "        sys.stdout.write(line.split('   ')[0] + ',' + line.split('   ')[1]+  ',' +line.split('   ')[2].replace('\\t','')+'\\n')"
   ]
  },
  {
   "cell_type": "code",
   "execution_count": 8,
   "metadata": {},
   "outputs": [],
   "source": [
    "!chmod +x mapper1.py"
   ]
  },
  {
   "cell_type": "code",
   "execution_count": 9,
   "metadata": {},
   "outputs": [
    {
     "name": "stdout",
     "output_type": "stream",
     "text": [
      "E,1990-05-03,16\r\n",
      "A,1992-09-19,9\r\n",
      "A,1990-10-06,10\r\n",
      "E,1994-02-14,10\r\n",
      "E,1999-09-10,11\r\n",
      "A,1992-08-22,16\r\n",
      "A,1993-05-08,17\r\n",
      "A,1988-04-27,121\r\n",
      "B,1995-08-23,1\r\n",
      "B,1991-10-01,9\r\n",
      "B,1999-10-21,13\r\n",
      "B,1997-04-09,14\r\n",
      "B,1995-09-06,15\r\n",
      "A,1990-08-31,12\r\n",
      "A,1997-12-15,13\r\n",
      "A,1994-10-25,14\r\n",
      "B,1993-03-02,16\r\n",
      "B,1999-08-28,17\r\n",
      "E,1998-09-14,2\r\n",
      "E,1995-04-25,3\r\n",
      "E,1993-07-21,4\r\n",
      "E,1985-02-12,17\r\n",
      "E,1990-02-09,18\r\n",
      "E,1993-12-27,19\r\n",
      "E,1991-02-18,141\r\n",
      "A,1990-07-22,0\r\n",
      "A,1990-09-26,8\r\n",
      "B,1999-06-11,121\r\n",
      "B,1998-11-22,131\r\n",
      "C,1994-01-25,10\r\n",
      "C,1991-02-12,13\r\n",
      "B,1994-08-30,18\r\n",
      "C,1994-09-09,15\r\n",
      "C,1994-07-27,104\r\n",
      "D,1990-10-10,15\r\n",
      "A,1990-09-05,11\r\n",
      "A,1993-01-11,15\r\n",
      "E,1993-01-27,9\r\n",
      "E,1999-12-06,12\r\n",
      "E,1999-01-14,15\r\n"
     ]
    }
   ],
   "source": [
    "!cat data.csv | ./mapper1.py"
   ]
  },
  {
   "cell_type": "code",
   "execution_count": 20,
   "metadata": {},
   "outputs": [
    {
     "name": "stdout",
     "output_type": "stream",
     "text": [
      "A,1988-04-27,121\r\n",
      "A,1990-07-22,0\r\n",
      "A,1990-08-31,12\r\n",
      "A,1990-09-05,11\r\n",
      "A,1990-09-26,8\r\n",
      "A,1990-10-06,10\r\n",
      "A,1992-08-22,16\r\n",
      "A,1992-09-19,9\r\n",
      "A,1993-01-11,15\r\n",
      "A,1993-05-08,17\r\n",
      "A,1994-10-25,14\r\n",
      "A,1997-12-15,13\r\n",
      "B,1991-10-01,9\r\n",
      "B,1993-03-02,16\r\n",
      "B,1994-08-30,18\r\n",
      "B,1995-08-23,1\r\n",
      "B,1995-09-06,15\r\n",
      "B,1997-04-09,14\r\n",
      "B,1998-11-22,131\r\n",
      "B,1999-06-11,121\r\n",
      "B,1999-08-28,17\r\n",
      "B,1999-10-21,13\r\n",
      "C,1991-02-12,13\r\n",
      "C,1994-01-25,10\r\n",
      "C,1994-07-27,104\r\n",
      "C,1994-09-09,15\r\n",
      "D,1990-10-10,15\r\n",
      "E,1985-02-12,17\r\n",
      "E,1990-02-09,18\r\n",
      "E,1990-05-03,16\r\n",
      "E,1991-02-18,141\r\n",
      "E,1993-01-27,9\r\n",
      "E,1993-07-21,4\r\n",
      "E,1993-12-27,19\r\n",
      "E,1994-02-14,10\r\n",
      "E,1995-04-25,3\r\n",
      "E,1998-09-14,2\r\n",
      "E,1999-01-14,15\r\n",
      "E,1999-09-10,11\r\n",
      "E,1999-12-06,12\r\n"
     ]
    }
   ],
   "source": [
    "!cat data.csv | ./mapper1.py | sort"
   ]
  },
  {
   "cell_type": "code",
   "execution_count": 119,
   "metadata": {
    "pycharm": {
     "name": "#%%\n"
    }
   },
   "outputs": [
    {
     "name": "stdout",
     "output_type": "stream",
     "text": [
      "Overwriting reducer1.py\n"
     ]
    }
   ],
   "source": [
    "%%writefile reducer1.py\n",
    "#!/usr/bin/env python\n",
    "import sys\n",
    "#\n",
    "#  >>> Escriba el codigo del mapper a partir de este punto <<<\n",
    "#\n",
    "if __name__ == '__main__':\n",
    "\n",
    "    current_key = None\n",
    "    same_letter = []\n",
    "\n",
    "    for line in sys.stdin:\n",
    "        \n",
    "        key,date,value = line.split(',')\n",
    "        \n",
    "        if key == current_key:\n",
    "            same_letter.append([int(value.replace('\\n','')),key,date])\n",
    "\n",
    "        else:\n",
    "            if current_key is not None:\n",
    "                same_letter.sort()\n",
    "                for i in same_letter:\n",
    "                    sys.stdout.write(i[1]+'   '+i[2]+'   '+str(i[0])+'\\n')\n",
    "                same_letter = []\n",
    "            \n",
    "            current_key = key\n",
    "            same_letter.append([int(value.replace('\\n','')),key,date])\n",
    "    same_letter.sort()\n",
    "    for i in same_letter:\n",
    "        sys.stdout.write(i[1]+'   '+i[2]+'   '+str(i[0])+'\\n')\n",
    "        "
   ]
  },
  {
   "cell_type": "code",
   "execution_count": 120,
   "metadata": {},
   "outputs": [],
   "source": [
    "!chmod +x reducer1.py"
   ]
  },
  {
   "cell_type": "code",
   "execution_count": 121,
   "metadata": {},
   "outputs": [
    {
     "name": "stdout",
     "output_type": "stream",
     "text": [
      "A   1990-07-22   0\r\n",
      "A   1990-09-26   8\r\n",
      "A   1992-09-19   9\r\n",
      "A   1990-10-06   10\r\n",
      "A   1990-09-05   11\r\n",
      "A   1990-08-31   12\r\n",
      "A   1997-12-15   13\r\n",
      "A   1994-10-25   14\r\n",
      "A   1993-01-11   15\r\n",
      "A   1992-08-22   16\r\n",
      "A   1993-05-08   17\r\n",
      "A   1988-04-27   121\r\n",
      "B   1995-08-23   1\r\n",
      "B   1991-10-01   9\r\n",
      "B   1999-10-21   13\r\n",
      "B   1997-04-09   14\r\n",
      "B   1995-09-06   15\r\n",
      "B   1993-03-02   16\r\n",
      "B   1999-08-28   17\r\n",
      "B   1994-08-30   18\r\n",
      "B   1999-06-11   121\r\n",
      "B   1998-11-22   131\r\n",
      "C   1994-01-25   10\r\n",
      "C   1991-02-12   13\r\n",
      "C   1994-09-09   15\r\n",
      "C   1994-07-27   104\r\n",
      "D   1990-10-10   15\r\n",
      "E   1998-09-14   2\r\n",
      "E   1995-04-25   3\r\n",
      "E   1993-07-21   4\r\n",
      "E   1993-01-27   9\r\n",
      "E   1994-02-14   10\r\n",
      "E   1999-09-10   11\r\n",
      "E   1999-12-06   12\r\n",
      "E   1999-01-14   15\r\n",
      "E   1990-05-03   16\r\n",
      "E   1985-02-12   17\r\n",
      "E   1990-02-09   18\r\n",
      "E   1993-12-27   19\r\n",
      "E   1991-02-18   141\r\n"
     ]
    }
   ],
   "source": [
    "!cat data.csv | ./mapper1.py | sort | ./reducer1.py"
   ]
  },
  {
   "cell_type": "code",
   "execution_count": 56,
   "metadata": {
    "pycharm": {
     "name": "#%%\n"
    }
   },
   "outputs": [
    {
     "name": "stdout",
     "output_type": "stream",
     "text": [
      "16\n"
     ]
    }
   ],
   "source": [
    "x = 'E,1990-05-03,16'\n",
    "key,date,value = x.split(',')\n",
    "print(value)"
   ]
  },
  {
   "cell_type": "code",
   "execution_count": 79,
   "metadata": {
    "pycharm": {
     "name": "#%%\n"
    }
   },
   "outputs": [
    {
     "name": "stdout",
     "output_type": "stream",
     "text": [
      "Overwriting data2.csv\n"
     ]
    }
   ],
   "source": [
    "%%writefile data2.csv\n",
    "A,1988-04-27,121\n",
    "A,1990-07-22,0\n",
    "A,1990-08-31,12\n",
    "A,1990-09-05,11\n",
    "A,1990-09-26,8\n",
    "A,1990-10-06,10\n",
    "A,1992-08-22,16\n",
    "A,1992-09-19,9\n",
    "A,1993-01-11,15\n",
    "A,1993-05-08,17\n",
    "A,1994-10-25,14\n",
    "A,1997-12-15,13"
   ]
  },
  {
   "cell_type": "code",
   "execution_count": 90,
   "metadata": {
    "pycharm": {
     "name": "#%%\n"
    }
   },
   "outputs": [],
   "source": [
    "same_letter = []\n",
    "with open('data2.csv') as file: \n",
    "    for line in file:\n",
    "        key,date,value = line.split(',')\n",
    "        same_letter.append([int(value.replace('\\n','')),key,date])\n",
    "same_letter.sort()\n"
   ]
  },
  {
   "cell_type": "code",
   "execution_count": 95,
   "metadata": {
    "pycharm": {
     "name": "#%%\n"
    }
   },
   "outputs": [
    {
     "name": "stdout",
     "output_type": "stream",
     "text": [
      "A,1990-07-22,0\n",
      "A,1990-09-26,8\n",
      "A,1992-09-19,9\n",
      "A,1990-10-06,10\n",
      "A,1990-09-05,11\n",
      "A,1990-08-31,12\n",
      "A,1997-12-15,13\n",
      "A,1994-10-25,14\n",
      "A,1993-01-11,15\n",
      "A,1992-08-22,16\n",
      "A,1993-05-08,17\n",
      "A,1988-04-27,121\n"
     ]
    }
   ],
   "source": [
    "for i in same_letter:\n",
    "    #print(i)\n",
    "    print(i[1]+','+i[2]+','+str(i[0]))"
   ]
  },
  {
   "cell_type": "code",
   "execution_count": null,
   "metadata": {},
   "outputs": [],
   "source": []
  },
  {
   "cell_type": "code",
   "execution_count": null,
   "metadata": {},
   "outputs": [],
   "source": []
  }
 ],
 "metadata": {
  "kernelspec": {
   "display_name": "Python 3",
   "language": "python",
   "name": "python3"
  },
  "language_info": {
   "codemirror_mode": {
    "name": "ipython",
    "version": 3
   },
   "file_extension": ".py",
   "mimetype": "text/x-python",
   "name": "python",
   "nbconvert_exporter": "python",
   "pygments_lexer": "ipython3",
   "version": "3.7.3"
  },
  "pycharm": {
   "stem_cell": {
    "cell_type": "raw",
    "metadata": {
     "collapsed": false
    },
    "source": [
     "\n",
     "\n",
     "\n"
    ]
   }
  }
 },
 "nbformat": 4,
 "nbformat_minor": 1
}
