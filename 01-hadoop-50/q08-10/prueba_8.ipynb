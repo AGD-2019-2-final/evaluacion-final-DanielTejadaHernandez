{
 "cells": [
  {
   "cell_type": "code",
   "execution_count": 2,
   "metadata": {},
   "outputs": [
    {
     "name": "stdout",
     "output_type": "stream",
     "text": [
      "Overwriting mapper1.py\n"
     ]
    }
   ],
   "source": [
    "%%writefile mapper1.py\n",
    "#! /usr/bin/env python\n",
    "import sys\n",
    "if __name__ == '__main__':\n",
    "    for line in sys.stdin:\n",
    "        line = line.replace('\\n','')\n",
    "        sys.stdout.write(line.split('   ')[0] + ',' + line.split('   ')[1]+  ',' +line.split('   ')[2].replace('\\t','')+'\\n')\n"
   ]
  },
  {
   "cell_type": "code",
   "execution_count": 3,
   "metadata": {},
   "outputs": [],
   "source": [
    "!chmod +x mapper1.py"
   ]
  },
  {
   "cell_type": "code",
   "execution_count": 4,
   "metadata": {},
   "outputs": [
    {
     "name": "stdout",
     "output_type": "stream",
     "text": [
      "B,1999-08-28,14\r\n",
      "E,1999-12-06,12\r\n",
      "E,1993-07-21,17\r\n",
      "C,1991-02-12,13\r\n",
      "E,1995-04-25,16\r\n",
      "A,1992-08-22,14\r\n",
      "B,1999-06-11,12\r\n",
      "E,1993-01-27,13\r\n",
      "E,1999-09-10,11\r\n",
      "E,1990-05-03,16\r\n",
      "E,1994-02-14,10\r\n",
      "A,1988-04-27,12\r\n",
      "A,1990-10-06,10\r\n",
      "E,1985-02-12,16\r\n",
      "E,1998-09-14,16\r\n",
      "B,1994-08-30,17\r\n",
      "A,1997-12-15,13\r\n",
      "B,1995-08-23,10\r\n",
      "B,1998-11-22,13\r\n",
      "B,1997-04-09,14\r\n",
      "E,1993-12-27,18\r\n",
      "E,1999-01-14,15\r\n",
      "A,1992-09-19,18\r\n",
      "B,1993-03-02,14\r\n",
      "B,1999-10-21,13\r\n",
      "A,1990-08-31,12\r\n",
      "C,1994-01-25,10\r\n",
      "E,1990-02-09,18\r\n",
      "A,1990-09-26,14\r\n",
      "A,1993-05-08,16\r\n",
      "B,1995-09-06,14\r\n",
      "E,1991-02-18,14\r\n",
      "A,1993-01-11,14\r\n",
      "A,1990-07-22,18\r\n",
      "C,1994-09-09,15\r\n",
      "C,1994-07-27,10\r\n",
      "D,1990-10-10,15\r\n",
      "A,1990-09-05,11\r\n",
      "B,1991-10-01,15\r\n",
      "A,1994-10-25,13\r\n"
     ]
    }
   ],
   "source": [
    "!cat data.csv | ./mapper1.py"
   ]
  },
  {
   "cell_type": "code",
   "execution_count": 5,
   "metadata": {},
   "outputs": [
    {
     "name": "stdout",
     "output_type": "stream",
     "text": [
      "A,1988-04-27,12\r\n",
      "A,1990-07-22,18\r\n",
      "A,1990-08-31,12\r\n",
      "A,1990-09-05,11\r\n",
      "A,1990-09-26,14\r\n",
      "A,1990-10-06,10\r\n",
      "A,1992-08-22,14\r\n",
      "A,1992-09-19,18\r\n",
      "A,1993-01-11,14\r\n",
      "A,1993-05-08,16\r\n",
      "A,1994-10-25,13\r\n",
      "A,1997-12-15,13\r\n",
      "B,1991-10-01,15\r\n",
      "B,1993-03-02,14\r\n",
      "B,1994-08-30,17\r\n",
      "B,1995-08-23,10\r\n",
      "B,1995-09-06,14\r\n",
      "B,1997-04-09,14\r\n",
      "B,1998-11-22,13\r\n",
      "B,1999-06-11,12\r\n",
      "B,1999-08-28,14\r\n",
      "B,1999-10-21,13\r\n",
      "C,1991-02-12,13\r\n",
      "C,1994-01-25,10\r\n",
      "C,1994-07-27,10\r\n",
      "C,1994-09-09,15\r\n",
      "D,1990-10-10,15\r\n",
      "E,1985-02-12,16\r\n",
      "E,1990-02-09,18\r\n",
      "E,1990-05-03,16\r\n",
      "E,1991-02-18,14\r\n",
      "E,1993-01-27,13\r\n",
      "E,1993-07-21,17\r\n",
      "E,1993-12-27,18\r\n",
      "E,1994-02-14,10\r\n",
      "E,1995-04-25,16\r\n",
      "E,1998-09-14,16\r\n",
      "E,1999-01-14,15\r\n",
      "E,1999-09-10,11\r\n",
      "E,1999-12-06,12\r\n"
     ]
    }
   ],
   "source": [
    "!cat data.csv | ./mapper1.py | sort"
   ]
  },
  {
   "cell_type": "code",
   "execution_count": 30,
   "metadata": {},
   "outputs": [
    {
     "name": "stdout",
     "output_type": "stream",
     "text": [
      "Overwriting reducer1.py\n"
     ]
    }
   ],
   "source": [
    "%%writefile reducer1.py\n",
    "#!/usr/bin/env python\n",
    "import sys\n",
    "\n",
    "if __name__ == '__main__':\n",
    "\n",
    "    current_key = None\n",
    "    same_letter = []\n",
    "\n",
    "    for line in sys.stdin:\n",
    "\n",
    "        key, date, value = line.split ( ',' )\n",
    "\n",
    "        if key == current_key:\n",
    "            same_letter.append ( float ( value.replace ( '\\n', '' ) ) )\n",
    "\n",
    "        else:\n",
    "            if current_key is not None:\n",
    "                sys.stdout.write ( current_key + '       ' + str ( float(sum ( same_letter ) )) + '\t' + str (\n",
    "                    sum ( same_letter ) / len ( same_letter ) ) + '\\n' )\n",
    "            same_letter = []\n",
    "\n",
    "            current_key = key\n",
    "            same_letter.append ( int ( value.replace ( '\\n', '' ) ) )\n",
    "\n",
    "    sys.stdout.write ( current_key + '       ' + str ( float(sum ( same_letter ) )) + '\t' + str (\n",
    "        round(sum ( same_letter ) / len ( same_letter ),3 )) + '...\\n' )"
   ]
  },
  {
   "cell_type": "code",
   "execution_count": 31,
   "metadata": {},
   "outputs": [],
   "source": [
    "!chmod +x reducer1.py"
   ]
  },
  {
   "cell_type": "code",
   "execution_count": 32,
   "metadata": {},
   "outputs": [
    {
     "name": "stdout",
     "output_type": "stream",
     "text": [
      "A       165.0\t13.75\r\n",
      "B       136.0\t13.6\r\n",
      "C       48.0\t12.0\r\n",
      "D       15.0\t15.0\r\n",
      "E       192.0\t14.769...\r\n"
     ]
    }
   ],
   "source": [
    "!cat data.csv | ./mapper1.py | sort | ./reducer1.py"
   ]
  },
  {
   "cell_type": "code",
   "execution_count": 29,
   "metadata": {},
   "outputs": [
    {
     "data": {
      "text/plain": [
       "14.769"
      ]
     },
     "execution_count": 29,
     "metadata": {},
     "output_type": "execute_result"
    }
   ],
   "source": [
    "x = 1\n",
    "round(x,3)"
   ]
  },
  {
   "cell_type": "code",
   "execution_count": null,
   "metadata": {},
   "outputs": [],
   "source": []
  }
 ],
 "metadata": {
  "kernelspec": {
   "display_name": "Python 3",
   "language": "python",
   "name": "python3"
  },
  "language_info": {
   "codemirror_mode": {
    "name": "ipython",
    "version": 3
   },
   "file_extension": ".py",
   "mimetype": "text/x-python",
   "name": "python",
   "nbconvert_exporter": "python",
   "pygments_lexer": "ipython3",
   "version": "3.7.3"
  }
 },
 "nbformat": 4,
 "nbformat_minor": 1
}
