{
 "cells": [
  {
   "cell_type": "code",
   "execution_count": 15,
   "metadata": {},
   "outputs": [
    {
     "name": "stdout",
     "output_type": "stream",
     "text": [
      "Overwriting mapper1.py\n"
     ]
    }
   ],
   "source": [
    "%%writefile mapper1.py\n",
    "#! /usr/bin/env python\n",
    "import sys\n",
    "if __name__ == '__main__':\n",
    "    for line in sys.stdin:\n",
    "        line = line.replace('\\n','')\n",
    "        sys.stdout.write(line.split('   ')[0] + ',' + line.split('   ')[1]+  ',' +line.split('   ')[2].replace('\\t','')+'\\n')"
   ]
  },
  {
   "cell_type": "code",
   "execution_count": 16,
   "metadata": {},
   "outputs": [],
   "source": [
    "!chmod +x mapper1.py"
   ]
  },
  {
   "cell_type": "code",
   "execution_count": 17,
   "metadata": {},
   "outputs": [
    {
     "name": "stdout",
     "output_type": "stream",
     "text": [
      "B,1999-08-28,14\r\n",
      "E,1999-12-06,121\r\n",
      "E,1993-07-21,17\r\n",
      "C,1991-02-12,2\r\n",
      "E,1995-04-25,161\r\n",
      "A,1992-08-22,14\r\n",
      "B,1999-06-11,12\r\n",
      "E,1993-01-27,8\r\n",
      "E,1999-09-10,11\r\n",
      "E,1990-05-03,16\r\n",
      "E,1994-02-14,101\r\n",
      "A,1988-04-27,9\r\n",
      "A,1990-10-06,10\r\n",
      "E,1985-02-12,16\r\n",
      "E,1998-09-14,7\r\n",
      "B,1994-08-30,17\r\n",
      "A,1997-12-15,13\r\n",
      "B,1995-08-23,101\r\n",
      "B,1998-11-22,13\r\n",
      "B,1997-04-09,6\r\n",
      "E,1993-12-27,181\r\n",
      "E,1999-01-14,15\r\n",
      "A,1992-09-19,18\r\n",
      "B,1993-03-02,14\r\n",
      "B,1999-10-21,131\r\n",
      "A,1990-08-31,12\r\n",
      "C,1994-01-25,10\r\n",
      "E,1990-02-09,18\r\n",
      "A,1990-09-26,5\r\n",
      "A,1993-05-08,16\r\n",
      "B,1995-09-06,141\r\n",
      "E,1991-02-18,14\r\n",
      "A,1993-01-11,141\r\n",
      "A,1990-07-22,4\r\n",
      "C,1994-09-09,151\r\n",
      "C,1994-07-27,1\r\n",
      "D,1990-10-10,151\r\n",
      "A,1990-09-05,11\r\n",
      "B,1991-10-01,151\r\n",
      "A,1994-10-25,13\r\n"
     ]
    }
   ],
   "source": [
    "!cat data.csv | ./mapper1.py"
   ]
  },
  {
   "cell_type": "code",
   "execution_count": 18,
   "metadata": {},
   "outputs": [
    {
     "name": "stdout",
     "output_type": "stream",
     "text": [
      "A,1988-04-27,9\r\n",
      "A,1990-07-22,4\r\n",
      "A,1990-08-31,12\r\n",
      "A,1990-09-05,11\r\n",
      "A,1990-09-26,5\r\n",
      "A,1990-10-06,10\r\n",
      "A,1992-08-22,14\r\n",
      "A,1992-09-19,18\r\n",
      "A,1993-01-11,141\r\n",
      "A,1993-05-08,16\r\n",
      "A,1994-10-25,13\r\n",
      "A,1997-12-15,13\r\n",
      "B,1991-10-01,151\r\n",
      "B,1993-03-02,14\r\n",
      "B,1994-08-30,17\r\n",
      "B,1995-08-23,101\r\n",
      "B,1995-09-06,141\r\n",
      "B,1997-04-09,6\r\n",
      "B,1998-11-22,13\r\n",
      "B,1999-06-11,12\r\n",
      "B,1999-08-28,14\r\n",
      "B,1999-10-21,131\r\n",
      "C,1991-02-12,2\r\n",
      "C,1994-01-25,10\r\n",
      "C,1994-07-27,1\r\n",
      "C,1994-09-09,151\r\n",
      "D,1990-10-10,151\r\n",
      "E,1985-02-12,16\r\n",
      "E,1990-02-09,18\r\n",
      "E,1990-05-03,16\r\n",
      "E,1991-02-18,14\r\n",
      "E,1993-01-27,8\r\n",
      "E,1993-07-21,17\r\n",
      "E,1993-12-27,181\r\n",
      "E,1994-02-14,101\r\n",
      "E,1995-04-25,161\r\n",
      "E,1998-09-14,7\r\n",
      "E,1999-01-14,15\r\n",
      "E,1999-09-10,11\r\n",
      "E,1999-12-06,121\r\n"
     ]
    }
   ],
   "source": [
    "!cat data.csv | ./mapper1.py | sort"
   ]
  },
  {
   "cell_type": "code",
   "execution_count": 37,
   "metadata": {},
   "outputs": [
    {
     "name": "stdout",
     "output_type": "stream",
     "text": [
      "Overwriting reducer1.py\n"
     ]
    }
   ],
   "source": [
    "%%writefile reducer1.py\n",
    "#!/usr/bin/env python\n",
    "import sys\n",
    "#\n",
    "#  >>> Escriba el codigo del mapper a partir de este punto <<<\n",
    "#\n",
    "if __name__ == '__main__':\n",
    "\n",
    "    current_key = None\n",
    "    same_letter = []\n",
    "\n",
    "    for line in sys.stdin:\n",
    "        \n",
    "        key,date,value = line.split(',')\n",
    "        same_letter.append([int(value.replace('\\n','')),key,date])\n",
    "\n",
    "    same_letter.sort()\n",
    "    \n",
    "    for i in range(6):\n",
    "        sys.stdout.write(same_letter[i][1]+'   '+same_letter[i][2]+'   '+str(same_letter[i][0])+'\\n')"
   ]
  },
  {
   "cell_type": "code",
   "execution_count": 38,
   "metadata": {},
   "outputs": [],
   "source": [
    "!chmod +x reducer1.py"
   ]
  },
  {
   "cell_type": "code",
   "execution_count": 39,
   "metadata": {},
   "outputs": [
    {
     "name": "stdout",
     "output_type": "stream",
     "text": [
      "C   1994-07-27   1\r\n",
      "C   1991-02-12   2\r\n",
      "A   1990-07-22   4\r\n",
      "A   1990-09-26   5\r\n",
      "B   1997-04-09   6\r\n",
      "E   1998-09-14   7\r\n"
     ]
    }
   ],
   "source": [
    "!cat data.csv | ./mapper1.py | sort | ./reducer1.py"
   ]
  },
  {
   "cell_type": "code",
   "execution_count": null,
   "metadata": {},
   "outputs": [],
   "source": []
  }
 ],
 "metadata": {
  "kernelspec": {
   "display_name": "Python 3",
   "language": "python",
   "name": "python3"
  },
  "language_info": {
   "codemirror_mode": {
    "name": "ipython",
    "version": 3
   },
   "file_extension": ".py",
   "mimetype": "text/x-python",
   "name": "python",
   "nbconvert_exporter": "python",
   "pygments_lexer": "ipython3",
   "version": "3.7.3"
  }
 },
 "nbformat": 4,
 "nbformat_minor": 1
}
